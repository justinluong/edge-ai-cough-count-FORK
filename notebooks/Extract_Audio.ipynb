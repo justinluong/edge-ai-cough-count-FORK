{
 "cells": [
  {
   "cell_type": "markdown",
   "id": "afb559ca",
   "metadata": {},
   "source": [
    "# Extract Audio"
   ]
  },
  {
   "cell_type": "markdown",
   "id": "5f3f899a",
   "metadata": {},
   "source": [
    "## Imports"
   ]
  },
  {
   "cell_type": "code",
   "execution_count": null,
   "id": "c470e475",
   "metadata": {},
   "outputs": [],
   "source": [
    "import os\n",
    "import sys\n",
    "from pathlib import Path\n",
    "\n",
    "import numpy as np\n",
    "import torch\n",
    "import torchaudio\n",
    "\n",
    "sys.path.append(os.path.abspath('../src'))\n",
    "from dataset_gen import get_samples_for_subject\n",
    "from helpers import FS_AUDIO"
   ]
  },
  {
   "cell_type": "markdown",
   "id": "833d7173",
   "metadata": {},
   "source": [
    "## Notebook Config"
   ]
  },
  {
   "cell_type": "code",
   "execution_count": null,
   "id": "5767c86c",
   "metadata": {},
   "outputs": [],
   "source": [
    "public_datasets_folder = \"../datasets/public_dataset/\"\n",
    "output_folder = Path(\"../datasets/extracted_audio/\")\n",
    "window_length = 0.4\n",
    "aug_factor = 2"
   ]
  },
  {
   "cell_type": "code",
   "execution_count": null,
   "id": "af79693d",
   "metadata": {},
   "outputs": [],
   "source": [
    "# Seed the random number generator for augmentation purposes\n",
    "seed = 1\n",
    "np.random.seed(seed)"
   ]
  },
  {
   "cell_type": "markdown",
   "id": "27d5dc22",
   "metadata": {},
   "source": [
    "## Helpers"
   ]
  },
  {
   "cell_type": "code",
   "execution_count": null,
   "id": "04e5e7bf",
   "metadata": {},
   "outputs": [],
   "source": [
    "def extract_audio(subject_id, public_datasets_folder, output_folder, window_length, aug_factor):\n",
    "    audio_data, imu_data, labels, total_coughs = get_samples_for_subject(public_datasets_folder, subj_id=subject_id, window_len=window_length, aug_factor=aug_factor)\n",
    "    num_samples, num_timesteps, num_channels = audio_data.shape\n",
    "    audio_data_list = np.split(audio_data, num_samples)\n",
    "\n",
    "    subject_output = output_folder / subject_id\n",
    "    subject_output.mkdir(parents=True, exist_ok=True)\n",
    "\n",
    "    print(f\"Extracting {num_samples} samples for subject {subject_id} to {subject_output}\")\n",
    "\n",
    "    metadata_file_name = subject_output / \"metadata.txt\"\n",
    "    with open(metadata_file_name, \"w\") as f:\n",
    "        f.write(f\"{seed=}\\n\")\n",
    "        f.write(f\"{subject_id=}\\n\")\n",
    "        f.write(f\"{num_samples=}\\n\")\n",
    "        f.write(f\"{total_coughs=}\\n\")\n",
    "        f.write(f\"{window_length=}\\n\")\n",
    "        f.write(f\"{aug_factor=}\\n\")\n",
    "        f.write(f\"{FS_AUDIO=}\\n\")\n",
    "\n",
    "    for i, audio_sample in enumerate(audio_data_list):\n",
    "        segment_folder = subject_output / f\"{i}\"\n",
    "        segment_folder.mkdir(parents=True, exist_ok=True)\n",
    "        audio_file_name = segment_folder / f\"audio.wav\"\n",
    "        label_file_name = segment_folder/ f\"label.txt\"\n",
    "        sample = torch.from_numpy(audio_sample.squeeze().astype(np.float32))\n",
    "        torchaudio.save(audio_file_name, sample, FS_AUDIO, channels_first=False)\n",
    "        with open(label_file_name, \"w\") as f:\n",
    "            f.write(str(int(labels[i])))"
   ]
  },
  {
   "cell_type": "code",
   "execution_count": null,
   "id": "a65472f0",
   "metadata": {},
   "outputs": [],
   "source": [
    "subject_ids = [f.name for f in Path(public_datasets_folder).iterdir() if f.is_dir()]\n",
    "print(f\"There are {len(subject_ids)} subjects in the public dataset.\")\n",
    "print(subject_ids)"
   ]
  },
  {
   "cell_type": "markdown",
   "id": "8c8ca75d",
   "metadata": {},
   "source": [
    "## Notebook Body"
   ]
  },
  {
   "cell_type": "code",
   "execution_count": null,
   "id": "95e1080a",
   "metadata": {},
   "outputs": [],
   "source": [
    "for subject_id in subject_ids:\n",
    "    extract_audio(subject_id, public_datasets_folder, output_folder, window_length, aug_factor)"
   ]
  },
  {
   "cell_type": "code",
   "execution_count": null,
   "id": "00e5484c",
   "metadata": {},
   "outputs": [],
   "source": []
  },
  {
   "cell_type": "code",
   "execution_count": null,
   "id": "e068633b",
   "metadata": {},
   "outputs": [],
   "source": []
  }
 ],
 "metadata": {
  "kernelspec": {
   "display_name": "Python 3 (ipykernel)",
   "language": "python",
   "name": "python3"
  },
  "language_info": {
   "codemirror_mode": {
    "name": "ipython",
    "version": 3
   },
   "file_extension": ".py",
   "mimetype": "text/x-python",
   "name": "python",
   "nbconvert_exporter": "python",
   "pygments_lexer": "ipython3",
   "version": "3.10.9"
  }
 },
 "nbformat": 4,
 "nbformat_minor": 5
}
